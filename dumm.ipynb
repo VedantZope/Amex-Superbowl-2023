{
 "cells": [
  {
   "cell_type": "code",
   "execution_count": 24,
   "metadata": {},
   "outputs": [],
   "source": [
    "import pandas as pd \n",
    "import numpy as np"
   ]
  },
  {
   "cell_type": "code",
   "execution_count": 25,
   "metadata": {},
   "outputs": [],
   "source": [
    "a = pd.read_csv('submissions/allfourregressionwcatboost/submission.csv')"
   ]
  },
  {
   "cell_type": "code",
   "execution_count": 26,
   "metadata": {},
   "outputs": [],
   "source": [
    "b = pd.read_csv('submissions/catboostwnoiter/submissionw60.csv')"
   ]
  },
  {
   "cell_type": "code",
   "execution_count": 31,
   "metadata": {},
   "outputs": [
    {
     "data": {
      "text/plain": [
       "0          -6.544124\n",
       "1         -20.968664\n",
       "2         -22.498588\n",
       "3         -21.329274\n",
       "4         -25.503827\n",
       "             ...    \n",
       "8496461    10.469699\n",
       "8496462    -8.618273\n",
       "8496463    -0.519226\n",
       "8496464    23.931533\n",
       "8496465     7.786375\n",
       "Name: predicted_score, Length: 8496466, dtype: float64"
      ]
     },
     "execution_count": 31,
     "metadata": {},
     "output_type": "execute_result"
    }
   ],
   "source": [
    "a.predicted_score"
   ]
  },
  {
   "cell_type": "code",
   "execution_count": 32,
   "metadata": {},
   "outputs": [],
   "source": [
    "#normalise a.predicted_score\n",
    "\n",
    "a.predicted_score = (a.predicted_score - a.predicted_score.min())/(a.predicted_score.max() - a.predicted_score.min())"
   ]
  },
  {
   "cell_type": "code",
   "execution_count": 33,
   "metadata": {},
   "outputs": [
    {
     "data": {
      "text/plain": [
       "0          0.431242\n",
       "1          0.376931\n",
       "2          0.371171\n",
       "3          0.375573\n",
       "4          0.359855\n",
       "             ...   \n",
       "8496461    0.495302\n",
       "8496462    0.423433\n",
       "8496463    0.453927\n",
       "8496464    0.545989\n",
       "8496465    0.485199\n",
       "Name: predicted_score, Length: 8496466, dtype: float64"
      ]
     },
     "execution_count": 33,
     "metadata": {},
     "output_type": "execute_result"
    }
   ],
   "source": [
    "a.predicted_score"
   ]
  },
  {
   "cell_type": "code",
   "execution_count": 34,
   "metadata": {},
   "outputs": [],
   "source": [
    "a.predicted_score = a.predicted_score+b.predicted_score"
   ]
  },
  {
   "cell_type": "code",
   "execution_count": 35,
   "metadata": {},
   "outputs": [
    {
     "ename": "",
     "evalue": "",
     "output_type": "error",
     "traceback": [
      "\u001b[1;31mThe Kernel crashed while executing code in the the current cell or a previous cell. Please review the code in the cell(s) to identify a possible cause of the failure. Click <a href='https://aka.ms/vscodeJupyterKernelCrash'>here</a> for more info. View Jupyter <a href='command:jupyter.viewOutput'>log</a> for further details."
     ]
    }
   ],
   "source": [
    "a.to_csv('submissions/ensemblewallfourregressionwcatboostandcatboostwnoiter.csv',index=False)"
   ]
  },
  {
   "cell_type": "code",
   "execution_count": 9,
   "metadata": {},
   "outputs": [],
   "source": [
    "x = a.customer.sample(int(len(cust)*0.5))"
   ]
  },
  {
   "cell_type": "code",
   "execution_count": 10,
   "metadata": {},
   "outputs": [],
   "source": [
    "dd = a[a.customer.isin(x)]"
   ]
  },
  {
   "cell_type": "code",
   "execution_count": 11,
   "metadata": {},
   "outputs": [],
   "source": [
    "xx = b[~b.customer.isin(x)]"
   ]
  },
  {
   "cell_type": "code",
   "execution_count": 12,
   "metadata": {},
   "outputs": [
    {
     "data": {
      "text/html": [
       "<div>\n",
       "<style scoped>\n",
       "    .dataframe tbody tr th:only-of-type {\n",
       "        vertical-align: middle;\n",
       "    }\n",
       "\n",
       "    .dataframe tbody tr th {\n",
       "        vertical-align: top;\n",
       "    }\n",
       "\n",
       "    .dataframe thead th {\n",
       "        text-align: right;\n",
       "    }\n",
       "</style>\n",
       "<table border=\"1\" class=\"dataframe\">\n",
       "  <thead>\n",
       "    <tr style=\"text-align: right;\">\n",
       "      <th></th>\n",
       "      <th>customer</th>\n",
       "      <th>predicted_score</th>\n",
       "      <th>merchant</th>\n",
       "    </tr>\n",
       "  </thead>\n",
       "  <tbody>\n",
       "    <tr>\n",
       "      <th>0</th>\n",
       "      <td>467915</td>\n",
       "      <td>0.040847</td>\n",
       "      <td>599167</td>\n",
       "    </tr>\n",
       "    <tr>\n",
       "      <th>1</th>\n",
       "      <td>467915</td>\n",
       "      <td>-0.024472</td>\n",
       "      <td>686617</td>\n",
       "    </tr>\n",
       "    <tr>\n",
       "      <th>2</th>\n",
       "      <td>467915</td>\n",
       "      <td>-0.093333</td>\n",
       "      <td>829193</td>\n",
       "    </tr>\n",
       "    <tr>\n",
       "      <th>3</th>\n",
       "      <td>467915</td>\n",
       "      <td>-0.019824</td>\n",
       "      <td>1077034</td>\n",
       "    </tr>\n",
       "    <tr>\n",
       "      <th>4</th>\n",
       "      <td>467915</td>\n",
       "      <td>-0.006210</td>\n",
       "      <td>876647</td>\n",
       "    </tr>\n",
       "    <tr>\n",
       "      <th>...</th>\n",
       "      <td>...</td>\n",
       "      <td>...</td>\n",
       "      <td>...</td>\n",
       "    </tr>\n",
       "    <tr>\n",
       "      <th>8496461</th>\n",
       "      <td>464447</td>\n",
       "      <td>-0.039171</td>\n",
       "      <td>644485</td>\n",
       "    </tr>\n",
       "    <tr>\n",
       "      <th>8496462</th>\n",
       "      <td>522564</td>\n",
       "      <td>-0.156350</td>\n",
       "      <td>802309</td>\n",
       "    </tr>\n",
       "    <tr>\n",
       "      <th>8496463</th>\n",
       "      <td>465030</td>\n",
       "      <td>-0.373178</td>\n",
       "      <td>741321</td>\n",
       "    </tr>\n",
       "    <tr>\n",
       "      <th>8496464</th>\n",
       "      <td>495259</td>\n",
       "      <td>-0.042692</td>\n",
       "      <td>625845</td>\n",
       "    </tr>\n",
       "    <tr>\n",
       "      <th>8496465</th>\n",
       "      <td>556241</td>\n",
       "      <td>-0.088018</td>\n",
       "      <td>639032</td>\n",
       "    </tr>\n",
       "  </tbody>\n",
       "</table>\n",
       "<p>5058973 rows × 3 columns</p>\n",
       "</div>"
      ],
      "text/plain": [
       "         customer  predicted_score  merchant\n",
       "0          467915         0.040847    599167\n",
       "1          467915        -0.024472    686617\n",
       "2          467915        -0.093333    829193\n",
       "3          467915        -0.019824   1077034\n",
       "4          467915        -0.006210    876647\n",
       "...           ...              ...       ...\n",
       "8496461    464447        -0.039171    644485\n",
       "8496462    522564        -0.156350    802309\n",
       "8496463    465030        -0.373178    741321\n",
       "8496464    495259        -0.042692    625845\n",
       "8496465    556241        -0.088018    639032\n",
       "\n",
       "[5058973 rows x 3 columns]"
      ]
     },
     "execution_count": 12,
     "metadata": {},
     "output_type": "execute_result"
    }
   ],
   "source": [
    "xx"
   ]
  },
  {
   "cell_type": "code",
   "execution_count": 16,
   "metadata": {},
   "outputs": [],
   "source": [
    "#append xx,dd\n",
    "\n",
    "sub = pd.concat([xx,dd])\n"
   ]
  },
  {
   "cell_type": "code",
   "execution_count": 18,
   "metadata": {},
   "outputs": [
    {
     "data": {
      "text/plain": [
       "95530"
      ]
     },
     "execution_count": 18,
     "metadata": {},
     "output_type": "execute_result"
    }
   ],
   "source": [
    "sub.customer.nunique()"
   ]
  },
  {
   "cell_type": "code",
   "execution_count": 19,
   "metadata": {},
   "outputs": [
    {
     "data": {
      "text/plain": [
       "95530"
      ]
     },
     "execution_count": 19,
     "metadata": {},
     "output_type": "execute_result"
    }
   ],
   "source": [
    "a.customer.nunique()"
   ]
  },
  {
   "cell_type": "code",
   "execution_count": 20,
   "metadata": {},
   "outputs": [
    {
     "data": {
      "text/plain": [
       "95530"
      ]
     },
     "execution_count": 20,
     "metadata": {},
     "output_type": "execute_result"
    }
   ],
   "source": [
    "b.customer.nunique()"
   ]
  },
  {
   "cell_type": "code",
   "execution_count": 23,
   "metadata": {},
   "outputs": [],
   "source": [
    "sub.to_csv('adarshkimkc.csv',index=False)"
   ]
  },
  {
   "cell_type": "code",
   "execution_count": null,
   "metadata": {},
   "outputs": [],
   "source": []
  }
 ],
 "metadata": {
  "kernelspec": {
   "display_name": "base",
   "language": "python",
   "name": "python3"
  },
  "language_info": {
   "codemirror_mode": {
    "name": "ipython",
    "version": 3
   },
   "file_extension": ".py",
   "mimetype": "text/x-python",
   "name": "python",
   "nbconvert_exporter": "python",
   "pygments_lexer": "ipython3",
   "version": "3.10.11"
  },
  "orig_nbformat": 4
 },
 "nbformat": 4,
 "nbformat_minor": 2
}
