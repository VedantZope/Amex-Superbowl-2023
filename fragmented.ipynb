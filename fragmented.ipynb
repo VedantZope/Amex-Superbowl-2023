{
 "cells": [
  {
   "cell_type": "code",
   "execution_count": 63,
   "metadata": {},
   "outputs": [],
   "source": [
    "import pandas as pd\n",
    "import numpy as np\n",
    "import joblib\n",
    "import sklearn\n",
    "# import ensemble\n",
    "from sklearn import ensemble\n",
    "from sklearn.model_selection import train_test_split\n",
    "from sklearn.metrics import accuracy_score,mean_squared_error,balanced_accuracy_score,recall_score\n",
    "import random\n",
    "import lightgbm as lgb\n",
    "import catboost as cbt"
   ]
  },
  {
   "cell_type": "code",
   "execution_count": 64,
   "metadata": {},
   "outputs": [],
   "source": [
    "data = pd.read_parquet(\"Data/Training/Amex_Campus_Challenge_Train.parquet\")"
   ]
  },
  {
   "cell_type": "code",
   "execution_count": 65,
   "metadata": {},
   "outputs": [],
   "source": [
    "randomlist = random.sample(list(data.customer.unique()),int(0.2*len(data.customer.unique())))"
   ]
  },
  {
   "cell_type": "code",
   "execution_count": 66,
   "metadata": {},
   "outputs": [],
   "source": [
    "testdata = data[data['customer'].isin(randomlist)]"
   ]
  },
  {
   "cell_type": "code",
   "execution_count": 67,
   "metadata": {},
   "outputs": [],
   "source": [
    "data = data[~data['customer'].isin(randomlist)]"
   ]
  },
  {
   "cell_type": "code",
   "execution_count": 68,
   "metadata": {},
   "outputs": [],
   "source": [
    "#select rows whose column value is not in a list\n",
    "# traindata = data[~data['customer'].isin(randomlist)]\n",
    "traindata = data"
   ]
  },
  {
   "cell_type": "code",
   "execution_count": 69,
   "metadata": {},
   "outputs": [],
   "source": [
    "del data"
   ]
  },
  {
   "cell_type": "code",
   "execution_count": 70,
   "metadata": {},
   "outputs": [
    {
     "data": {
      "text/html": [
       "<div>\n",
       "<style scoped>\n",
       "    .dataframe tbody tr th:only-of-type {\n",
       "        vertical-align: middle;\n",
       "    }\n",
       "\n",
       "    .dataframe tbody tr th {\n",
       "        vertical-align: top;\n",
       "    }\n",
       "\n",
       "    .dataframe thead th {\n",
       "        text-align: right;\n",
       "    }\n",
       "</style>\n",
       "<table border=\"1\" class=\"dataframe\">\n",
       "  <thead>\n",
       "    <tr style=\"text-align: right;\">\n",
       "      <th>activation</th>\n",
       "      <th>0</th>\n",
       "      <th>1</th>\n",
       "    </tr>\n",
       "    <tr>\n",
       "      <th>ind_recommended</th>\n",
       "      <th></th>\n",
       "      <th></th>\n",
       "    </tr>\n",
       "  </thead>\n",
       "  <tbody>\n",
       "    <tr>\n",
       "      <th>0</th>\n",
       "      <td>8502584</td>\n",
       "      <td>48302</td>\n",
       "    </tr>\n",
       "    <tr>\n",
       "      <th>1</th>\n",
       "      <td>1228199</td>\n",
       "      <td>7812</td>\n",
       "    </tr>\n",
       "  </tbody>\n",
       "</table>\n",
       "</div>"
      ],
      "text/plain": [
       "activation             0      1\n",
       "ind_recommended                \n",
       "0                8502584  48302\n",
       "1                1228199   7812"
      ]
     },
     "execution_count": 70,
     "metadata": {},
     "output_type": "execute_result"
    }
   ],
   "source": [
    "def confusion_matrix_2col(df, col1, col2):\n",
    "    return df.groupby([col1, col2]).size().unstack(fill_value=0)\n",
    "\n",
    "confusion_matrix_2col(traindata, 'ind_recommended', 'activation')"
   ]
  },
  {
   "cell_type": "code",
   "execution_count": 71,
   "metadata": {},
   "outputs": [],
   "source": [
    "tdata = traindata.drop(traindata[traindata['ind_recommended'] == 1].index)"
   ]
  },
  {
   "cell_type": "code",
   "execution_count": 72,
   "metadata": {},
   "outputs": [],
   "source": [
    "# tdata = traindata.drop(traindata[traindata['activation'] == 0].sample(9661108).index)\n",
    "tdata = tdata.drop(tdata[tdata['activation'] == 0].sample(8451108).index)\n",
    "# tdata = tdata.drop(tdata[(tdata['activation'] == 1) & (tdata['ind_recommended'] == 0)].sample(35996).index)"
   ]
  },
  {
   "cell_type": "code",
   "execution_count": 73,
   "metadata": {},
   "outputs": [],
   "source": [
    "X_train, X_test, y_train, y_test = train_test_split(tdata.drop(['customer','merchant','activation','ind_recommended'],axis=1), tdata['activation'], test_size=0.1, random_state=1)\n",
    "act = lgb.LGBMClassifier(n_estimators=1500,learning_rate=0.01,objective='binary',metric='binary_logloss',random_state=1)"
   ]
  },
  {
   "cell_type": "code",
   "execution_count": 74,
   "metadata": {},
   "outputs": [
    {
     "name": "stdout",
     "output_type": "stream",
     "text": [
      "mse :  0.12778111846061335\n"
     ]
    }
   ],
   "source": [
    "act.fit(X_train, y_train)\n",
    "y_pred = act.predict(X_test)\n",
    "print(\"mse : \",mean_squared_error(y_test, y_pred))"
   ]
  },
  {
   "cell_type": "code",
   "execution_count": 75,
   "metadata": {},
   "outputs": [
    {
     "name": "stdout",
     "output_type": "stream",
     "text": [
      "Accuracy :  0.8722188815393866 Balanced Accuracy : 0.8727396274457062  recall : 0.8861313868613139\n"
     ]
    }
   ],
   "source": [
    "print(\"Accuracy : \",accuracy_score(y_test, y_pred),\"Balanced Accuracy :\",balanced_accuracy_score(y_test, y_pred),\" recall :\",recall_score(y_test, y_pred))"
   ]
  },
  {
   "cell_type": "code",
   "execution_count": 76,
   "metadata": {},
   "outputs": [],
   "source": [
    "recomdata = traindata[(traindata['ind_recommended'] == 1) & (traindata['activation'] == 1)]"
   ]
  },
  {
   "cell_type": "code",
   "execution_count": 77,
   "metadata": {},
   "outputs": [
    {
     "data": {
      "text/plain": [
       "7812"
      ]
     },
     "execution_count": 77,
     "metadata": {},
     "output_type": "execute_result"
    }
   ],
   "source": [
    "len(recomdata)"
   ]
  },
  {
   "cell_type": "code",
   "execution_count": 78,
   "metadata": {},
   "outputs": [
    {
     "name": "stderr",
     "output_type": "stream",
     "text": [
      "/var/folders/yy/95rx0nm12jqc32p5svcxxv7h0000gn/T/ipykernel_47813/355737933.py:1: SettingWithCopyWarning: \n",
      "A value is trying to be set on a copy of a slice from a DataFrame.\n",
      "Try using .loc[row_indexer,col_indexer] = value instead\n",
      "\n",
      "See the caveats in the documentation: https://pandas.pydata.org/pandas-docs/stable/user_guide/indexing.html#returning-a-view-versus-a-copy\n",
      "  recomdata['organicactivation'] = act.predict(recomdata.drop(['customer','merchant','activation','ind_recommended'],axis=1))\n"
     ]
    }
   ],
   "source": [
    "recomdata['organicactivation'] = act.predict(recomdata.drop(['customer','merchant','activation','ind_recommended'],axis=1))"
   ]
  },
  {
   "cell_type": "code",
   "execution_count": 79,
   "metadata": {},
   "outputs": [
    {
     "name": "stderr",
     "output_type": "stream",
     "text": [
      "/var/folders/yy/95rx0nm12jqc32p5svcxxv7h0000gn/T/ipykernel_47813/301614160.py:1: SettingWithCopyWarning: \n",
      "A value is trying to be set on a copy of a slice from a DataFrame.\n",
      "Try using .loc[row_indexer,col_indexer] = value instead\n",
      "\n",
      "See the caveats in the documentation: https://pandas.pydata.org/pandas-docs/stable/user_guide/indexing.html#returning-a-view-versus-a-copy\n",
      "  recomdata['activation'] = (1-recomdata['organicactivation'])\n"
     ]
    }
   ],
   "source": [
    "recomdata['activation'] = (1-recomdata['organicactivation'])"
   ]
  },
  {
   "cell_type": "code",
   "execution_count": 80,
   "metadata": {},
   "outputs": [],
   "source": [
    "X_train, X_test, y_train, y_test = train_test_split(recomdata.drop(['customer','merchant','activation','ind_recommended','organicactivation'],axis=1), recomdata['activation'], test_size=0.1, random_state=1)\n",
    "rec = lgb.LGBMClassifier()"
   ]
  },
  {
   "cell_type": "code",
   "execution_count": 81,
   "metadata": {},
   "outputs": [
    {
     "name": "stdout",
     "output_type": "stream",
     "text": [
      "mse :  0.034526854219948847\n"
     ]
    }
   ],
   "source": [
    "rec.fit(X_train, y_train)\n",
    "y_pred = rec.predict(X_test)\n",
    "print(\"mse : \",mean_squared_error(y_test, y_pred))"
   ]
  },
  {
   "cell_type": "code",
   "execution_count": 82,
   "metadata": {},
   "outputs": [
    {
     "name": "stdout",
     "output_type": "stream",
     "text": [
      "Accuracy :  0.9654731457800512 Balanced Accuracy : 0.8575928134784554  recall : 0.7236842105263158\n"
     ]
    }
   ],
   "source": [
    "print(\"Accuracy : \",accuracy_score(y_test, y_pred),\"Balanced Accuracy :\",balanced_accuracy_score(y_test, y_pred),\" recall :\",recall_score(y_test, y_pred))"
   ]
  },
  {
   "cell_type": "code",
   "execution_count": 105,
   "metadata": {},
   "outputs": [
    {
     "data": {
      "text/plain": [
       "0    7043\n",
       "1     769\n",
       "Name: activation, dtype: int64"
      ]
     },
     "execution_count": 105,
     "metadata": {},
     "output_type": "execute_result"
    }
   ],
   "source": [
    "recomdata.activation.value_counts()"
   ]
  },
  {
   "cell_type": "code",
   "execution_count": 91,
   "metadata": {},
   "outputs": [],
   "source": [
    "rec_list = rec.predict(testdata.drop(['ind_recommended','activation','customer','merchant'],axis=1))"
   ]
  },
  {
   "cell_type": "code",
   "execution_count": 96,
   "metadata": {},
   "outputs": [],
   "source": [
    "act_list = act.predict_proba(testdata.drop(['ind_recommended','activation','customer','merchant'],axis=1))"
   ]
  },
  {
   "cell_type": "code",
   "execution_count": 100,
   "metadata": {},
   "outputs": [],
   "source": [
    "act_list = [i[1] for i in act_list]"
   ]
  },
  {
   "cell_type": "code",
   "execution_count": 113,
   "metadata": {},
   "outputs": [],
   "source": [
    "act_list = np.array(act_list)"
   ]
  },
  {
   "cell_type": "code",
   "execution_count": 114,
   "metadata": {},
   "outputs": [],
   "source": [
    "testdata['predicted_score'] = (1-act_list)"
   ]
  },
  {
   "cell_type": "code",
   "execution_count": 115,
   "metadata": {},
   "outputs": [
    {
     "name": "stderr",
     "output_type": "stream",
     "text": [
      "/var/folders/yy/95rx0nm12jqc32p5svcxxv7h0000gn/T/ipykernel_47813/245156590.py:3: SettingWithCopyWarning: \n",
      "A value is trying to be set on a copy of a slice from a DataFrame.\n",
      "Try using .loc[row_indexer,col_indexer] = value instead\n",
      "\n",
      "See the caveats in the documentation: https://pandas.pydata.org/pandas-docs/stable/user_guide/indexing.html#returning-a-view-versus-a-copy\n",
      "  df_input['predicted_score'] = df_input['predicted_score'].round(10)\n"
     ]
    },
    {
     "name": "stdout",
     "output_type": "stream",
     "text": [
      "Input Files are Correct\n",
      "   ind_recommended  avg_30d_act\n",
      "0                0     0.000414\n",
      "1                1     0.000827\n",
      "Incremental Activation Rate for Top 10 ranked Merchants(dataset level):  0.0004123\n"
     ]
    }
   ],
   "source": [
    "evalu(testdata[['customer','predicted_score','merchant']],testdata[['customer','ind_recommended','activation','merchant']])"
   ]
  },
  {
   "cell_type": "code",
   "execution_count": 94,
   "metadata": {},
   "outputs": [],
   "source": [
    "# testdata[['customer','predicted_score','merchant']].to_csv('d_pred.csv',index=False)"
   ]
  },
  {
   "cell_type": "code",
   "execution_count": 95,
   "metadata": {},
   "outputs": [],
   "source": [
    "name='allfourregressionwcatboostimbalancefine'"
   ]
  },
  {
   "cell_type": "code",
   "execution_count": 40,
   "metadata": {},
   "outputs": [],
   "source": [
    "import os\n",
    "os.makedirs('submissions/'+name+'/models', exist_ok=True)"
   ]
  },
  {
   "cell_type": "code",
   "execution_count": 41,
   "metadata": {},
   "outputs": [
    {
     "data": {
      "text/plain": [
       "['submissions/allfourregressionwcatboostimbalancefine/models/score.joblib']"
      ]
     },
     "execution_count": 41,
     "metadata": {},
     "output_type": "execute_result"
    }
   ],
   "source": [
    "joblib.dump(rec, 'submissions/'+name+'/models/score.joblib')"
   ]
  },
  {
   "cell_type": "code",
   "execution_count": 42,
   "metadata": {},
   "outputs": [
    {
     "data": {
      "text/plain": [
       "1.9987477589695894"
      ]
     },
     "execution_count": 42,
     "metadata": {},
     "output_type": "execute_result"
    }
   ],
   "source": [
    "testdata.predicted_score.mean()"
   ]
  },
  {
   "cell_type": "code",
   "execution_count": null,
   "metadata": {},
   "outputs": [],
   "source": [
    "#form1  (rec.round-0.5)*act"
   ]
  },
  {
   "cell_type": "code",
   "execution_count": 61,
   "metadata": {},
   "outputs": [],
   "source": [
    "def incr_act_top10(input_df,pred_col,cm_key='customer',treated_col='ind_recommended',actual_col='activation'):\n",
    "    \n",
    "\t#for correcting variable types\n",
    "    input_df[[treated_col, actual_col, pred_col]] = input_df[[treated_col, actual_col, pred_col]].apply(pd.to_numeric, errors='coerce')\n",
    "\t\n",
    "    input_df['rank_per_cm1'] = input_df.groupby(cm_key)[pred_col].rank(method='first', ascending=False)\n",
    "    \n",
    "    input_df = input_df.loc[input_df.rank_per_cm1 <= 10,:]\n",
    "    \n",
    "    agg_df = input_df.groupby(treated_col,as_index=False).agg({actual_col:'mean'})\n",
    "    agg_df.columns = [treated_col,'avg_30d_act']\n",
    "    \n",
    "    print(agg_df)\n",
    "    recommended_avg_30d_act = float(agg_df.loc[agg_df[treated_col]==1,'avg_30d_act'])\n",
    "    not_recommended_avg_30d_act = float(agg_df.loc[agg_df[treated_col]==0,'avg_30d_act'])\n",
    "    \n",
    "    return (recommended_avg_30d_act-not_recommended_avg_30d_act)"
   ]
  },
  {
   "cell_type": "code",
   "execution_count": 60,
   "metadata": {},
   "outputs": [],
   "source": [
    "def evalu(df_input, df_round): \n",
    "    # round off scores to 10 decimal points\n",
    "    df_input['predicted_score'] = df_input['predicted_score'].round(10)\n",
    "\n",
    "\n",
    "    # groupby customer, merchant and max score\n",
    "    df_input = df_input.groupby(['customer', 'merchant'], as_index = False)['predicted_score'].agg('max')\n",
    "\n",
    "\n",
    "    # merging predicted file and dependent variable file\n",
    "    eval_data = pd.merge(df_round,df_input,on=['customer','merchant'],how='inner').drop_duplicates()\n",
    "    # deleting the rows having null value in predicted_score\n",
    "    eval_data = eval_data[~(eval_data['predicted_score'].isna())]\n",
    "\n",
    "\n",
    "    if df_round.shape[0] != eval_data.shape[0]:\n",
    "        return('Error: Rows are missing in the output file')\n",
    "    else:\n",
    "        print('Input Files are Correct')\n",
    "\n",
    "    final_score = round(incr_act_top10(input_df=eval_data,pred_col='predicted_score',cm_key='customer',treated_col='ind_recommended',actual_col='activation'), 7)\n",
    "\n",
    "    print('Incremental Activation Rate for Top 10 ranked Merchants(dataset level): ', final_score)"
   ]
  },
  {
   "cell_type": "code",
   "execution_count": null,
   "metadata": {},
   "outputs": [],
   "source": []
  }
 ],
 "metadata": {
  "kernelspec": {
   "display_name": "base",
   "language": "python",
   "name": "python3"
  },
  "language_info": {
   "codemirror_mode": {
    "name": "ipython",
    "version": 3
   },
   "file_extension": ".py",
   "mimetype": "text/x-python",
   "name": "python",
   "nbconvert_exporter": "python",
   "pygments_lexer": "ipython3",
   "version": "3.10.11"
  },
  "orig_nbformat": 4
 },
 "nbformat": 4,
 "nbformat_minor": 2
}
